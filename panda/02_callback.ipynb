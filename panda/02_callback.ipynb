{
 "cells": [
  {
   "cell_type": "code",
   "execution_count": 1,
   "metadata": {},
   "outputs": [],
   "source": [
    "import tensorflow as tf"
   ]
  },
  {
   "cell_type": "code",
   "execution_count": 14,
   "metadata": {},
   "outputs": [],
   "source": [
    "class mycallback(tf.keras.callbacks.Callback):\n",
    "    def on_epoch_end(self, epoch, logs={}):\n",
    "        if(logs.get('accuracy')>0.95):\n",
    "            print(\"\\n reached 95% accuracy so cancelling training!\")\n",
    "            self.model.stop_training = True"
   ]
  },
  {
   "cell_type": "code",
   "execution_count": 15,
   "metadata": {},
   "outputs": [],
   "source": [
    "callback = mycallback()\n",
    "mnist = tf.keras.datasets.fashion_mnist\n",
    "(training_images, training_labels),(test_images, test_labels) = mnist.load_data()\n",
    "\n",
    "training_images = training_images/255.0\n",
    "test_images = test_images/255.0"
   ]
  },
  {
   "cell_type": "code",
   "execution_count": 16,
   "metadata": {},
   "outputs": [],
   "source": [
    "model = tf.keras.Sequential([\n",
    "    tf.keras.layers.Flatten(),\n",
    "    tf.keras.layers.Dense(128, activation=tf.nn.relu),\n",
    "    tf.keras.layers.Dense(10, activation=tf.nn.softmax)    \n",
    "])"
   ]
  },
  {
   "cell_type": "code",
   "execution_count": 17,
   "metadata": {},
   "outputs": [],
   "source": [
    "model.compile(optimizer = 'adam', loss='sparse_categorical_crossentropy',\n",
    "              metrics=['accuracy'])"
   ]
  },
  {
   "cell_type": "code",
   "execution_count": 18,
   "metadata": {},
   "outputs": [
    {
     "name": "stdout",
     "output_type": "stream",
     "text": [
      "Epoch 1/50\n",
      "1875/1875 [==============================] - 3s 2ms/step - loss: 0.4981 - accuracy: 0.8239\n",
      "Epoch 2/50\n",
      "1875/1875 [==============================] - 3s 2ms/step - loss: 0.3791 - accuracy: 0.8632\n",
      "Epoch 3/50\n",
      "1875/1875 [==============================] - 3s 2ms/step - loss: 0.3385 - accuracy: 0.8762\n",
      "Epoch 4/50\n",
      "1875/1875 [==============================] - 3s 2ms/step - loss: 0.3152 - accuracy: 0.8836\n",
      "Epoch 5/50\n",
      "1875/1875 [==============================] - 3s 2ms/step - loss: 0.2964 - accuracy: 0.8899\n",
      "Epoch 6/50\n",
      "1875/1875 [==============================] - 3s 2ms/step - loss: 0.2815 - accuracy: 0.8955\n",
      "Epoch 7/50\n",
      "1875/1875 [==============================] - 3s 2ms/step - loss: 0.2690 - accuracy: 0.8994\n",
      "Epoch 8/50\n",
      "1875/1875 [==============================] - 3s 2ms/step - loss: 0.2596 - accuracy: 0.9031\n",
      "Epoch 9/50\n",
      "1875/1875 [==============================] - 3s 2ms/step - loss: 0.2478 - accuracy: 0.9079\n",
      "Epoch 10/50\n",
      "1875/1875 [==============================] - 3s 2ms/step - loss: 0.2395 - accuracy: 0.9097\n",
      "Epoch 11/50\n",
      "1875/1875 [==============================] - 3s 2ms/step - loss: 0.2299 - accuracy: 0.9137\n",
      "Epoch 12/50\n",
      "1875/1875 [==============================] - 3s 2ms/step - loss: 0.2234 - accuracy: 0.9164\n",
      "Epoch 13/50\n",
      "1875/1875 [==============================] - 4s 2ms/step - loss: 0.2152 - accuracy: 0.9190\n",
      "Epoch 14/50\n",
      "1875/1875 [==============================] - 4s 2ms/step - loss: 0.2100 - accuracy: 0.9199\n",
      "Epoch 15/50\n",
      "1875/1875 [==============================] - 3s 2ms/step - loss: 0.2010 - accuracy: 0.9240\n",
      "Epoch 16/50\n",
      "1875/1875 [==============================] - 3s 2ms/step - loss: 0.1984 - accuracy: 0.9245\n",
      "Epoch 17/50\n",
      "1875/1875 [==============================] - 4s 2ms/step - loss: 0.1917 - accuracy: 0.9270\n",
      "Epoch 18/50\n",
      "1875/1875 [==============================] - 4s 2ms/step - loss: 0.1846 - accuracy: 0.9310\n",
      "Epoch 19/50\n",
      "1875/1875 [==============================] - 3s 2ms/step - loss: 0.1839 - accuracy: 0.9312\n",
      "Epoch 20/50\n",
      "1875/1875 [==============================] - 3s 2ms/step - loss: 0.1775 - accuracy: 0.9341\n",
      "Epoch 21/50\n",
      "1875/1875 [==============================] - 4s 2ms/step - loss: 0.1713 - accuracy: 0.9350\n",
      "Epoch 22/50\n",
      "1875/1875 [==============================] - 3s 2ms/step - loss: 0.1659 - accuracy: 0.9369\n",
      "Epoch 23/50\n",
      "1875/1875 [==============================] - 4s 2ms/step - loss: 0.1644 - accuracy: 0.9371\n",
      "Epoch 24/50\n",
      "1875/1875 [==============================] - 3s 2ms/step - loss: 0.1601 - accuracy: 0.9396\n",
      "Epoch 25/50\n",
      "1875/1875 [==============================] - 3s 2ms/step - loss: 0.1584 - accuracy: 0.9403\n",
      "Epoch 26/50\n",
      "1875/1875 [==============================] - 4s 2ms/step - loss: 0.1528 - accuracy: 0.9431\n",
      "Epoch 27/50\n",
      "1875/1875 [==============================] - 3s 2ms/step - loss: 0.1474 - accuracy: 0.9441\n",
      "Epoch 28/50\n",
      "1875/1875 [==============================] - 4s 2ms/step - loss: 0.1486 - accuracy: 0.9450\n",
      "Epoch 29/50\n",
      "1875/1875 [==============================] - 4s 2ms/step - loss: 0.1406 - accuracy: 0.9470\n",
      "Epoch 30/50\n",
      "1875/1875 [==============================] - 4s 2ms/step - loss: 0.1404 - accuracy: 0.9472\n",
      "Epoch 31/50\n",
      "1875/1875 [==============================] - 4s 2ms/step - loss: 0.1376 - accuracy: 0.9487\n",
      "Epoch 32/50\n",
      "1875/1875 [==============================] - 4s 2ms/step - loss: 0.1349 - accuracy: 0.9494\n",
      "Epoch 33/50\n",
      "1849/1875 [============================>.] - ETA: 0s - loss: 0.1316 - accuracy: 0.9509\n",
      " reached 95% accuracy so cancelling training!\n",
      "1875/1875 [==============================] - 4s 2ms/step - loss: 0.1317 - accuracy: 0.9507\n"
     ]
    },
    {
     "data": {
      "text/plain": [
       "<keras.callbacks.History at 0x2a407d57ac0>"
      ]
     },
     "execution_count": 18,
     "metadata": {},
     "output_type": "execute_result"
    }
   ],
   "source": [
    "model.fit(training_images, training_labels, epochs=50, callbacks=[callback])"
   ]
  },
  {
   "cell_type": "code",
   "execution_count": null,
   "metadata": {},
   "outputs": [],
   "source": []
  }
 ],
 "metadata": {
  "kernelspec": {
   "display_name": "Python 3",
   "language": "python",
   "name": "python3"
  },
  "language_info": {
   "codemirror_mode": {
    "name": "ipython",
    "version": 3
   },
   "file_extension": ".py",
   "mimetype": "text/x-python",
   "name": "python",
   "nbconvert_exporter": "python",
   "pygments_lexer": "ipython3",
   "version": "3.10.11"
  },
  "orig_nbformat": 4
 },
 "nbformat": 4,
 "nbformat_minor": 2
}
